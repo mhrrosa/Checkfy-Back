{
 "cells": [
  {
   "cell_type": "markdown",
   "metadata": {},
   "source": [
    "# SOMATIVA 02"
   ]
  },
  {
   "cell_type": "markdown",
   "metadata": {},
   "source": [
    "## Estudante"
   ]
  },
  {
   "cell_type": "code",
   "execution_count": null,
   "metadata": {},
   "outputs": [],
   "source": [
    "# Colocar seu nome aqui (Desconto de 0,5 pontos se não colocar o nome)\n",
    "#"
   ]
  },
  {
   "cell_type": "markdown",
   "metadata": {},
   "source": [
    "## Importar bibliotecas"
   ]
  },
  {
   "cell_type": "code",
   "execution_count": null,
   "metadata": {},
   "outputs": [],
   "source": [
    "import pandas as pd\n",
    "import matplotlib.pyplot as plt\n",
    "import scipy.stats as st\n",
    "import numpy as np"
   ]
  },
  {
   "cell_type": "markdown",
   "metadata": {},
   "source": [
    "## Conectar com Google Drive"
   ]
  },
  {
   "cell_type": "code",
   "execution_count": null,
   "metadata": {},
   "outputs": [],
   "source": [
    "from google.colab import drive\n",
    "drive.mount('/content/gdrive')"
   ]
  },
  {
   "cell_type": "markdown",
   "metadata": {},
   "source": [
    "# Avaliação dividida em duas partes\n",
    "* Intervalo de confiança e Teste de Hipótese (2,5 pontos RA01)\n",
    "* Gráficos de Controle (3,0 pontos RA2)"
   ]
  },
  {
   "cell_type": "markdown",
   "metadata": {},
   "source": [
    "# Intervalo de confiança\n",
    "O cliente solicitou uma avaliação da produtividade da equipe no desenvolvimento do produto e solicitou uma avaliação que inclui as horas utilizadas nas sprints com detalhamento por módulo, e a pontualidade das entregas nos prazos acordados. O arquivo **AMP_sprint.csv** contém as horas utilizadas (Realizado_Horas) em cada sprint e uma variável (Entrega_no_Prazo) identificando se a sprint foi entregue no prazo '1' ou não '0'. O arquivo **AMP_sprint.csv** não contém a informação dos módulos, sendo por isso necessário criar uma tabela com a combinação (através de join) dos arquivos **AMP_sprint.csv** e **AMP_modulo_sprint.csv**.\n",
    "\n",
    "* Carregar o arquivo AMP_sprint.csv\n",
    "* Carregar o arquivo AMP_modulo_sprint.csv\n",
    "* Fazer a combinação (merge) das tabelas carregadas"
   ]
  },
  {
   "cell_type": "code",
   "execution_count": null,
   "metadata": {},
   "outputs": [],
   "source": [
    "# Carregar AMP_defeitos_estaticos.csv\n",
    "SP = pd.read_csv('/content/gdrive/MyDrive/DADOS/CEP/AMP_sprint.csv')\n",
    "\n",
    "# Carregar AMP_modulo_defeito.csv\n",
    "MS = pd.read_csv('/content/gdrive/MyDrive/DADOS/CEP/AMP_modulo_sprint.csv')\n",
    "\n",
    "# Fazer merge de ModuloDefeito e DefeitosEstaticoTempo\n",
    "sprints = pd.merge(MS, SP, on='ID_SPRINT', how='outer')\n",
    "\n",
    "# Mostar cinco primeiros registros\n",
    "sprints.head(5)"
   ]
  },
  {
   "cell_type": "markdown",
   "metadata": {},
   "source": [
    "## Intervalo de confiança para a média"
   ]
  },
  {
   "cell_type": "code",
   "execution_count": null,
   "metadata": {},
   "outputs": [],
   "source": [
    "# Função para calcular o intervalo de confiança da média da população\n",
    "# Argumentos:\n",
    "# X - vetor de valores observados\n",
    "# c - confiança\n",
    "def ICMP(X, c):\n",
    "    alfa = 1 - c\n",
    "    n = X.size\n",
    "    Xbarra = X.mean()\n",
    "    S = X.std(ddof=1)\n",
    "    x1 = (Xbarra - st.t.ppf(1-alfa/2, n-1)*S/np.sqrt(n))\n",
    "    x2 = (Xbarra + st.t.ppf(1-alfa/2, n-1)*S/np.sqrt(n))\n",
    "    return [x1, x2]"
   ]
  },
  {
   "cell_type": "markdown",
   "metadata": {},
   "source": [
    "### Questão 1 (valor 0,8)\n",
    "Responder as seguintes perguntas sobre as sprints realizadas em menos do que 200 horas.<br><br>\n",
    "a) Selecionar sprints realizadas em menos de 200 horas<br>\n",
    "Dica: dataframe.query('...')<br><br>\n",
    "b) Carregar array com valores de horas realizadas para as sprints realizadas em menos de 200 horas.<br>\n",
    "Dica: dataframe['coluna'].values<br><br>\n",
    "c) Quantas sprints foram realizadas em menos de 200 horas?<br>\n",
    "Dica: array.size.<br><br>\n",
    "d) Calcular a média de horas realizadas para as sprints realizadas em menos do que 200 horas.<br>\n",
    "Dica: array.mean().<br><br>\n",
    "e) Calcular o intervalo de confiança de 95% da média de horas realizadas para essas sprints.<br>\n",
    "Dica: utilize a função ICMP.<br>\n",
    "Se o seu código estiver correto o resultado deve ser [73.61, 98.37]"
   ]
  },
  {
   "cell_type": "code",
   "execution_count": null,
   "metadata": {},
   "outputs": [],
   "source": [
    "# Selecionar sprints realizadas em menos de 200 horas\n",
    "# Dica: dataframe.query()\n",
    "# Colocar seu código aqui\n",
    "\n",
    "\n",
    "\n",
    "# Carregar array com valores de horas realizadas para as sprints realizadas em menos de 200 horas\n",
    "# Dica: dataframe['coluna'].values\n",
    "# Colocar seu código aqui\n",
    "\n",
    "\n",
    "\n",
    "# Quantas sprints foram realizadas em menos do que 200 horas?\n",
    "# Dica: array.size\n",
    "# Colocar seu código aqui\n",
    "\n",
    "\n",
    "\n",
    "# Calcular a média de horas realizadas para as sprints realizadas em menos do que 200 horas.\n",
    "# Dica: array.mean()\n",
    "# Usar print(\"{0:.2f}\".format() para imprimir\n",
    "# Colocar seu código aqui\n",
    "\n",
    "\n",
    "\n",
    "# Calcular o intervalo de confiança de 95% da média de horas realizadas para essas sprints.\n",
    "# Usar função ICMP para calcular\n",
    "# Usar print(\"[{0:.2f}, {1:.2f}]\".format() para imprimir\n",
    "# Colocar seu código aqui\n",
    "\n"
   ]
  },
  {
   "cell_type": "markdown",
   "metadata": {},
   "source": [
    "## Intervalo de confiança para a variância"
   ]
  },
  {
   "cell_type": "code",
   "execution_count": null,
   "metadata": {},
   "outputs": [],
   "source": [
    "# Função para calcular o intervalo de confiança da variância da população\n",
    "# Argumentos:\n",
    "# X - vetor de valores observados\n",
    "# c - confiança\n",
    "def ICVP(X, c):\n",
    "    alfa = 1 - c\n",
    "    n = X.size\n",
    "    S2 = X.var(ddof=1)\n",
    "    x1 = ((n-1)*S2)/st.chi2.ppf(1-alfa/2, n-1)\n",
    "    x2 = ((n-1)*S2)/st.chi2.ppf(alfa/2, n-1)\n",
    "    return [x1, x2]"
   ]
  },
  {
   "cell_type": "markdown",
   "metadata": {},
   "source": [
    "### Questão 2 (valor 0,8)\n",
    "Responder as seguintes perguntas sobre as sprints do módulo M01.<br><br>\n",
    "a) Selecionar sprints do módulo M01<br>\n",
    "Dica: dataframe.query()<br><br>\n",
    "b) Carregar array com valores das estimativas de use case points (Estimativa_UCP) para as sprints do módulo M01.<br>\n",
    "Dica: dataframe['coluna'].values<br><br>\n",
    "c) Quantas sprints foram realizadas no módulo M01?<br>\n",
    "Dica: Tamanho do array com valores das estimativas de use case points para as sprints do módulo M01.<br><br>\n",
    "d) Calcular a variância estimativas de use case points das sprints do módulo M01.<br>\n",
    "Dica: utilize a função var(ddof=1).<br><br>\n",
    "e) Calcular o intervalo de confiança de 99% da variância das estimativas de use case points para sprints do módulo M01.<br>\n",
    "Dica: utilize a função ICVP.<br>\n",
    "Se o seu código estiver correto o resultado deve ser [149.82, 939.27]."
   ]
  },
  {
   "cell_type": "code",
   "execution_count": null,
   "metadata": {},
   "outputs": [],
   "source": [
    "# Selecionar sprints do módulo M01\n",
    "# Dica: dataframe.query()\n",
    "# Colocar seu código aqui\n",
    "\n",
    "\n",
    "# Carregar vetor com valores das estimativas de use case points para as sprints do módulo M01\n",
    "# Dica: dataframe['colunaL'].values\n",
    "# Colocar seu código aqui\n",
    "\n",
    "\n",
    "\n",
    "# Calcular a quantidade de sprints realizadas no módulo M01\n",
    "# Dica: usar array.size\n",
    "# Colocar seu código aqui\n",
    "\n",
    "\n",
    "\n",
    "# Calcular a variância das estimativas de use case points para as sprints do módulo M01\n",
    "# Dica: usar a função var(ddof=1)\n",
    "# Usar print(\"{0:.2f}\".format() para imprimir\n",
    "# Colocar seu código aqui\n",
    "\n",
    "\n",
    "\n",
    "# Calcular o intervalo de confiança de 99% da variância das estimativas de use case points\n",
    "# para as sprints do módulo M01 (usar função ICVP)\n",
    "# Usar print(\"[{0:.2f}, {1:.2f}]\".format() para imprimir\n",
    "# Colocar seu código aqui\n",
    "\n"
   ]
  },
  {
   "cell_type": "markdown",
   "metadata": {},
   "source": [
    "## Teste de hipótese para a proporção"
   ]
  },
  {
   "cell_type": "code",
   "execution_count": null,
   "metadata": {},
   "outputs": [],
   "source": [
    "import scipy.stats as st\n",
    "# Teste de hipotese para a proporção da populacao\n",
    "def THPP(X, p0, alfa, t):\n",
    "    n = X.shape[0]\n",
    "    pchapeu = X.mean()\n",
    "    S = np.sqrt(p0*(1-p0))\n",
    "    z0 = (pchapeu - p0)/(S/np.sqrt(n))\n",
    "    # Teste de igualdade\n",
    "    if (t==0):\n",
    "        pvalor = 2*(1-st.norm.cdf(abs(z0),0,1))\n",
    "        if (z0 >= -st.norm.ppf(1-alfa/2, 0,1) and z0 <= st.norm.ppf(1-alfa/2, 0,1)):\n",
    "            h = 0\n",
    "        else:\n",
    "            h = 1\n",
    "    # Teste para maior        \n",
    "    elif (t==1):\n",
    "        pvalor = 1-st.norm.cdf(z0,0,1)\n",
    "        if (z0 <= st.norm.ppf(1-alfa, 0,1)):\n",
    "            h = 0\n",
    "        else:\n",
    "            h = 1\n",
    "    # Teste para menor\n",
    "    elif (t==2):\n",
    "        pvalor = st.norm.cdf(z0,0,1);\n",
    "        if (z0 >= -st.norm.ppf(1-alfa, 0,1)):          \n",
    "            h = 0\n",
    "        else:\n",
    "            h = 1\n",
    "    # Valor de t inválido\n",
    "    else:\n",
    "        h = -1\n",
    "\n",
    "    return [h, pvalor]"
   ]
  },
  {
   "cell_type": "markdown",
   "metadata": {},
   "source": [
    "### Questão 3 (valor 0,9)\n",
    "O escritório de projetos pretende demonstrar estatisticamente que a proporção das sprints entregues no prazo é maior do que 0,85 (85%) e preparou um teste de hipótese para responder às seguintes questões:<br><br>\n",
    "a) Quantas sprints foram entregues no prazo?<br>\n",
    "Dica: a quantidade de sprints entregues no prazo é a soma dos valores da coluna **Entrega_no_Prazo**.<br><br>\n",
    "b) Qual a proporção de sprints entregues no prazo?<br>\n",
    "Dica: a proporção de sprints entregues no prazo pode ser calculada como a média dos valores da coluna **Entrega_no_Prazo**.<br><br>\n",
    "c) Utilizar o teste de hipótese para verificar estatisticamente se a proporção é maior do que 85% com nível de significância de 5%.<br>\n",
    "Dicas: Dica: utilize a função THPP. Se o seu código estiver correo o valor de **pvalue** deve ser 0.8262209816294153. <br>"
   ]
  },
  {
   "cell_type": "code",
   "execution_count": null,
   "metadata": {},
   "outputs": [],
   "source": [
    "# Calcular a quantidade de sprints entregues no prazo\n",
    "# dataframe.coluna.sum. Se o código estiver correto você deve obter 65\n",
    "# Colocar seu código aqui\n",
    "\n",
    "\n",
    "\n",
    "# Calcular a proporção de sprints entregues no prazo\n",
    "# dataframe.coluna.sum. Se o código estiver correto você deve obter 0.81\n",
    "# Usar print(\"{0:.2f}\".format(...) para imprimir\n",
    "# Colocar seu código aqui\n",
    "\n",
    "\n",
    "\n",
    "# Realizar o teste de hipótes\n",
    "# Dica: o primeiro argumento são os valores da coluna Entrega_noPrazo do dataframe sprints\n",
    "# Colocar seu código aqui\n",
    "\n",
    "\n",
    "\n",
    "# Resultado do teste de hipótese\n",
    "if (h == 0):\n",
    "    print('Aceitar H0 - proporção não é maior')\n",
    "else:\n",
    "    print('Aceitar H1 - proporção é maior')\n",
    "\n",
    "# Imprimir o pvalor\n",
    "# Se seu código estiver correto o resultado deve ser 0.8262209816294153\n",
    "print(pvalor)"
   ]
  },
  {
   "cell_type": "markdown",
   "metadata": {},
   "source": [
    "## Gráfico de controle XbarR"
   ]
  },
  {
   "cell_type": "markdown",
   "metadata": {},
   "source": [
    "### Importar biblioteca de graficos de controle de variáveis"
   ]
  },
  {
   "cell_type": "code",
   "execution_count": null,
   "metadata": {},
   "outputs": [],
   "source": [
    "import numpy as np\n",
    "import pandas as pd\n",
    "import matplotlib.pyplot as plt\n",
    "class GC_V:\n",
    "    def plotar(self, titulo, x, pts, lcl,cl, ucl, ooc, mostra_limtes_z):\n",
    "\n",
    "        fig, ax = plt.subplots(figsize=(9, 5))\n",
    "        ax.plot(x, pts, 'bo', markeredgecolor='b', markerfacecolor='b', markersize=7)\n",
    "        ax.plot(x, pts, 'b', label='Dados', linewidth=1.0)\n",
    "        ax.plot(x, cl, 'g', label='Linha central', linewidth=1.0)\n",
    "        ax.plot(x, ucl, 'r', label='Limite superior de controle ', linewidth=1.0)\n",
    "        ax.plot(x, lcl, 'r', label='Limite inferior de controle', linewidth=1.0)\n",
    "\n",
    "        if (mostra_limtes_z):\n",
    "            udelta = (ucl - cl) / 3\n",
    "            ldelta = (lcl - cl) / 3\n",
    "            ax.plot(x, cl + udelta, 'k', linestyle='-.', linewidth=1.0)\n",
    "            ax.plot(x, cl + ldelta, 'k', linestyle='-.', linewidth=1.0)\n",
    "            ax.plot(x, cl + 2 * udelta, 'k', linestyle='-.', linewidth=1.0)\n",
    "            ax.plot(x, cl + 2 * ldelta, 'k', linestyle='-.', linewidth=1.0)\n",
    "\n",
    "\n",
    "        if (np.any(ooc)):\n",
    "            ax.plot(x[ooc], pts[ooc], 'ro', markeredgecolor='b', markerfacecolor='r', markersize=7)\n",
    "\n",
    "        ax.set_xticks(np.arange(0, x.shape[0]))\n",
    "        ax.legend(loc=(1.02, 0.8), fontsize=8)\n",
    "        ax.set_title(titulo)\n",
    "\n",
    "    def __init__(self):\n",
    "        self.parametros = pd.read_csv('/content/gdrive/MyDrive/DADOS/CEP/GCparametros.csv')\n",
    "\n",
    "    # Gráfico de controle Xbar\n",
    "    def Xbar(self, X, mostra_limtes_z=False):\n",
    "        k = X.shape[0]\n",
    "        n = X.shape[1]\n",
    "\n",
    "        A2 = self.parametros['A2'][self.parametros['SS'] == n].values[0]\n",
    "        Xbarbar = np.mean(np.mean(X, axis=1))\n",
    "        R = np.abs(np.max(X, axis=1) - np.min(X, axis=1))\n",
    "        Rbar = np.mean(R)\n",
    "\n",
    "        x = np.arange(0, k)\n",
    "        pts = np.mean(X, axis=1)\n",
    "        lcl = np.ones(k) * (Xbarbar - A2 * Rbar)\n",
    "        cl = np.ones(k) * Xbarbar\n",
    "        ucl = np.ones(k) * (Xbarbar + A2 * Rbar)\n",
    "        ooc = ((lcl > pts) | (pts > ucl))\n",
    "\n",
    "        self.plotar(\n",
    "            'Gráfico de Controle Xbar', x, pts, lcl, cl, ucl, ooc, mostra_limtes_z)\n",
    "\n",
    "        return (lcl[0], cl[0], ucl[0])\n",
    "\n",
    "    # Gráfico de controle R\n",
    "    def R(self, X, mostra_limtes_z=False):\n",
    "        k = X.shape[0]\n",
    "        n = X.shape[1]\n",
    "\n",
    "        D3 = self.parametros['D3'][self.parametros['SS'] == n].values[0]\n",
    "        D4 = self.parametros['D4'][self.parametros['SS'] == n].values[0]\n",
    "        R = np.abs(np.max(X, axis=1) - np.min(X, axis=1))\n",
    "        Rbar = np.mean(R)\n",
    "\n",
    "        x = np.arange(0, k)\n",
    "        pts = R\n",
    "        lcl = np.ones(k) * (D3 * Rbar)\n",
    "        cl = np.ones(k) * Rbar\n",
    "        ucl = np.ones(k) * (D4 * Rbar)\n",
    "        ooc = ((lcl > pts) | (pts > ucl))\n",
    "\n",
    "        self.plotar(\n",
    "            'Gráfico de Controle R', x, pts, lcl, cl, ucl, ooc, mostra_limtes_z)\n",
    "\n",
    "        return (lcl[0], cl[0], ucl[0])\n",
    "\n",
    "    # Gráfico de controle S\n",
    "    def S(self, X, mostra_limtes_z=False):\n",
    "        k = X.shape[0]\n",
    "        n = X.shape[1]\n",
    "\n",
    "        B3 = self.parametros['B3'][self.parametros['SS'] == n].values[0]\n",
    "        B4 = self.parametros['B4'][self.parametros['SS'] == n].values[0]\n",
    "        S = np.sqrt(np.var(X, axis=1))\n",
    "        Sbar = np.mean(S)\n",
    "\n",
    "        x = np.arange(0, k)\n",
    "        pts = S\n",
    "        lcl = np.ones(k) * (B3 * Sbar)\n",
    "        cl = np.ones(k) * Sbar\n",
    "        ucl = np.ones(k) * (B4 * Sbar)\n",
    "        ooc = ((lcl > pts) | (pts > ucl))\n",
    "\n",
    "        self.plotar(\n",
    "            'Gráfico de Controle S', x, pts, lcl, cl, ucl, ooc, mostra_limtes_z)\n",
    "\n",
    "        return (lcl[0], cl[0], ucl[0])\n",
    "\n",
    "    # Gráfico de controle X\n",
    "    def X(self, X, mostra_limtes_z=False):\n",
    "        k = X.shape[0]\n",
    "        if X.ndim == 1:\n",
    "            n = 2\n",
    "        else:\n",
    "            n = X.shape[1]\n",
    "\n",
    "        E2 = self.parametros['E2'][self.parametros['SS'] == n].values[0]\n",
    "\n",
    "        Xbar = np.mean(X)\n",
    "        R = np.abs(np.diff(X))\n",
    "        Rbar = np.mean(R)\n",
    "\n",
    "        x = np.arange(0, k)\n",
    "        pts = X\n",
    "\n",
    "        lcl = np.ones(k) * (Xbar - E2 * Rbar)\n",
    "        cl = np.ones(k) * Xbar\n",
    "        ucl = np.ones(k) * (Xbar + E2 * Rbar)\n",
    "        ooc = ((lcl > pts) | (pts > ucl))\n",
    "\n",
    "        self.plotar(\n",
    "            'Gráfico de Controle X', x, pts, lcl, cl, ucl, ooc, mostra_limtes_z)\n",
    "\n",
    "        return (lcl[0], cl[0], ucl[0])\n",
    "\n",
    "    # Gráfico de controle XM\n",
    "    def XM(self, X, mostra_limtes_z=False):\n",
    "        k = X.shape[0]\n",
    "\n",
    "        P1 = 3.145\n",
    "\n",
    "        Xbar = np.mean(X)\n",
    "        mR = np.abs(np.diff(X))\n",
    "        MmR = np.quantile(mR, [0.5])\n",
    "\n",
    "        x = np.arange(0, k)\n",
    "        pts = X\n",
    "\n",
    "        lcl = np.ones(k) * (Xbar - P1 * MmR)\n",
    "        cl = np.ones(k) * Xbar\n",
    "        ucl = np.ones(k) * (Xbar + P1 * MmR)\n",
    "        ooc = ((lcl > pts) | (pts > ucl))\n",
    "\n",
    "        self.plotar(\n",
    "            'Gráfico de Controle XM', x, pts, lcl, cl, ucl, ooc, mostra_limtes_z)\n",
    "\n",
    "        return (lcl[0], cl[0], ucl[0])\n",
    "\n",
    "    # Gráfico de controle mR\n",
    "    def mR(self, X, mostra_limtes_z=False):\n",
    "        k = X.shape[0]\n",
    "        if X.ndim == 1:\n",
    "            n = 2\n",
    "            medias = X\n",
    "        else:\n",
    "            n = X.shape[1]\n",
    "            medias = np.mean(X, axis=1)\n",
    "\n",
    "        D3 = self.parametros['D3'][self.parametros['SS'] == n].values[0]\n",
    "        D4 = self.parametros['D4'][self.parametros['SS'] == n].values[0]\n",
    "\n",
    "        Rbar = np.mean(np.abs(np.diff(medias)))\n",
    "        MR = np.abs(np.diff(medias))\n",
    "\n",
    "        x = np.arange(0, k-1)  # primeira diferença na segunda medição\n",
    "        pts = MR\n",
    "\n",
    "        lcl = np.ones(k-1) * (D3 * Rbar)\n",
    "        cl = np.ones(k-1) * Rbar\n",
    "        ucl = np.ones(k-1) * (D4 * Rbar)\n",
    "        ooc = ((lcl > pts) | (pts > ucl))\n",
    "\n",
    "        self.plotar(\n",
    "            'Gráfico de Controle mR', x, pts, lcl, cl, ucl, ooc, mostra_limtes_z)\n",
    "\n",
    "        return (lcl[0], cl[0], ucl[0])\n",
    "\n",
    "    # Gráfico de controle MmR\n",
    "    def MmR(self, X, mostra_limtes_z=False):\n",
    "        k = X.shape[0]\n",
    "        if X.ndim == 1:\n",
    "            n = 2\n",
    "            medias = X\n",
    "        else:\n",
    "            n = X.shape[1]\n",
    "            medias = np.mean(X, axis=1)\n",
    "\n",
    "        P2 = 3.865\n",
    "        P3 = 0\n",
    "\n",
    "        mR = np.abs(np.diff(medias))\n",
    "        MmR = np.quantile(mR, [0.5])\n",
    "        MR = np.abs(np.diff(X))\n",
    "\n",
    "        x = np.arange(0, k-1)  # primeira diferença na segunda medição\n",
    "        pts = MR\n",
    "\n",
    "        # lcl = ones(k,1)*0*MmR;\n",
    "        lcl = np.ones(k-1) * (P3 * MmR)\n",
    "        # cl = ones(k,1)*MmR;\n",
    "        cl = np.ones(k-1) * MmR\n",
    "        # ucl = ones(k, 1) * 3.865 * MmR;\n",
    "        ucl = np.ones(k-1) * (P2 * MmR)\n",
    "        ooc = ((lcl > pts) | (pts > ucl))\n",
    "\n",
    "        self.plotar(\n",
    "            'Gráfico de Controle MmR', x, pts, lcl, cl, ucl, ooc, mostra_limtes_z)\n",
    "\n",
    "        return (lcl[0], cl[0], ucl[0])\n",
    "\n",
    "    # Gráfico de controle mX\n",
    "    def mX(self, X, mostra_limtes_z=False):\n",
    "        k = X.shape[0]\n",
    "        if X.ndim == 1:\n",
    "            n = 2\n",
    "            medias = X\n",
    "        else:\n",
    "            n = X.shape[1]\n",
    "            medias = np.mean(X, axis=1)\n",
    "\n",
    "        A2 = self.parametros['A2'][self.parametros['SS'] == n].values[0]\n",
    "\n",
    "        mX = np.zeros(k-1)\n",
    "        for i in range(0,k-1):\n",
    "            mX[i] = (medias[i]+medias[i+1])/2\n",
    "\n",
    "        mXbarbar = np.mean(mX)\n",
    "        Rbar = np.mean(np.abs(np.diff(medias)))\n",
    "\n",
    "        x = np.arange(0, k-1)  # primeira diferença na segunda medição\n",
    "        pts = mX\n",
    "\n",
    "        # lcl = ones(k, 1) * (mXbarbar - 1.88 * Rbarra)\n",
    "        lcl = np.ones(k-1) * (mXbarbar - A2 * Rbar)\n",
    "        # cl = ones(k, 1)*mXbarbar;\n",
    "        cl = np.ones(k-1) * mXbarbar\n",
    "        # ucl = ones(k, 1) * (mXbarbar + 1.88 * Rbarra);\n",
    "        ucl = np.ones(k-1) * (mXbarbar + A2 * Rbar)\n",
    "        ooc = ((lcl > pts) | (pts > ucl))\n",
    "\n",
    "        self.plotar(\n",
    "            'Gráfico de Controle mX', x, pts, lcl, cl, ucl, ooc, mostra_limtes_z)\n",
    "\n",
    "        return (lcl[0], cl[0], ucl[0])"
   ]
  },
  {
   "cell_type": "markdown",
   "metadata": {},
   "source": [
    "### Instanciar classe GC"
   ]
  },
  {
   "cell_type": "code",
   "execution_count": null,
   "metadata": {},
   "outputs": [],
   "source": [
    "gc = GC_V()"
   ]
  },
  {
   "cell_type": "markdown",
   "metadata": {},
   "source": [
    "### Questão 4 (valor 1,2)\n",
    "O escritório de projetos decidiu analisar as horas nas sprints utilizando o gráfico de controle XbarR.\n",
    "Fazer a análise das horas realizadas para todas sprints do produto AMP com agrupamento sequencial e tamanho do grupo igual 5."
   ]
  },
  {
   "cell_type": "markdown",
   "metadata": {},
   "source": [
    "**Preparar dados**<br>\n",
    "Incluir a variável **Desvio_Estimativas** no dataframe sprints.<br>\n",
    "Dica: sprints['Desvio_Estimativas'] = sprints['Realizado_Horas'] - sprints['Estimativa_Horas']<br><br>\n",
    "Para fazer a análise de dados agrupados é necessário formar os agrupamentos.<br>\n",
    "Será feito o agrupamento mínimo (tamanho 5) dos valores de horas realizadas (Realizado_Horas) na ordem de seqência das sprints, ou seja:\n",
    "* grupo 0 = {S01, S02, S03, S04, S05}\n",
    "* grupo 1 = {S06, S07, S08, S09, S10}\n",
    "* grupo 2 = {S11, S12, S13, S14, S15}\n",
    "* ...\n",
    "* grupo 15 = {S76, S77, S78, S79, S80}\n",
    "\n",
    "\n",
    "Calcular a matriz $X3$ com os valores de horas realizadas agrupando a cada 5 sprints na ordem de sequência."
   ]
  },
  {
   "cell_type": "code",
   "execution_count": null,
   "metadata": {},
   "outputs": [],
   "source": [
    "# Calcular a coluna DesvioEstimativa\n",
    "sprints['Desvio_Estimativas'] = sprints['Realizado_Horas'] - sprints['Estimativa_Horas']\n",
    "\n",
    "# Calcular a matriz X com os valores de horas realizadas\n",
    "# agrupando a cada 5 sprints na ordem de sequência\n",
    "X3 = np.array(sprints['Desvio_Estimativas'].values).reshape((16, 5))\n",
    "print(X3)"
   ]
  },
  {
   "cell_type": "markdown",
   "metadata": {},
   "source": [
    "#### 4.1 Plotar gráficos de controle Xbar e R (valor 0,4)"
   ]
  },
  {
   "cell_type": "code",
   "execution_count": null,
   "metadata": {},
   "outputs": [],
   "source": [
    "# Plotar gráfico de controle Xbar\n",
    "# Colocar seu código aqui\n",
    "\n"
   ]
  },
  {
   "cell_type": "code",
   "execution_count": null,
   "metadata": {},
   "outputs": [],
   "source": [
    "# Plotar gráfico de controle R\n",
    "# Colocar seu código aqui\n",
    "\n"
   ]
  },
  {
   "cell_type": "markdown",
   "metadata": {},
   "source": [
    "#### 4.2 Análisar gráficos Xbar e R (valor 0,8)\n",
    "* Teste 1: presença de algum ponto fora do limite de controle\n",
    "* Teste 2: presença de pelo menos dois valores sucessivos no mesmo lado na zona C\n",
    "* Teste 3: presença de pelo menos quatro valores sucessivos no mesmo lado na zona B\n",
    "* Teste 4: presença de oito pontos consecutivos no mesmo lado da linha central em qualquer zona\n",
    "\n",
    "Pontos sobre uma linha de controle são considerados na zona adjacente mais próxima à linha central."
   ]
  },
  {
   "cell_type": "code",
   "execution_count": null,
   "metadata": {},
   "outputs": [],
   "source": [
    "################################\n",
    "#### Resultado da análise ######\n",
    "################################\n",
    "\n",
    "# Teste 1: presença de algum ponto fora dos limites de controle\n",
    "# Gráfico Xbar: \n",
    "# Gráfico R:\n",
    "#\n",
    "# Teste 2: presença de pelo menos dois valores sucessivos na zona C\n",
    "# Gráfico Xbar:\n",
    "# Gráfico R: \n",
    "#\n",
    "# Teste 3: presença de pelo menos quatro valores sucessivos na zona B\n",
    "# Gráfico Xbar: \n",
    "# Gráfico R: \n",
    "#\n",
    "# Teste 4: presença pelo menos oito valores sucessivos no mesmo lado da linha central\n",
    "# Gráfico Xbar: \n",
    "# Gráfico R: \n",
    "#\n",
    "#"
   ]
  },
  {
   "cell_type": "markdown",
   "metadata": {},
   "source": [
    "#### Não precisa realizar análise detalhada aqui na somativa."
   ]
  },
  {
   "cell_type": "markdown",
   "metadata": {},
   "source": [
    "## Gráfico de controle XMmR"
   ]
  },
  {
   "cell_type": "markdown",
   "metadata": {},
   "source": [
    "### Questão 5 (valor 1,8)\n",
    "O escritório de projetos decidiu analisar a estabilidade do processo de estimativa de use case points (Estimativa_UCP) nas sprints do módulo M01, utilizando o gráfico de controle XMmR.<br><br>"
   ]
  },
  {
   "cell_type": "markdown",
   "metadata": {},
   "source": [
    "#### 5.1 Preparar dados (valor 0,4)"
   ]
  },
  {
   "cell_type": "code",
   "execution_count": null,
   "metadata": {},
   "outputs": [],
   "source": [
    "# Selecionar coluna Estimativa_UCP para sprints do módulo M01\n",
    "# Selecionar as linhas do módulo M01 no dataframe sprints (dica:usar query)\n",
    "# Colocar seu código aqui\n",
    "\n",
    "\n",
    "# Selecionar os valores das estimativas de use case pointes (dica: usar dataframe['coluna'].values)\n",
    "# Colocar seu código aqui\n",
    "\n"
   ]
  },
  {
   "cell_type": "markdown",
   "metadata": {},
   "source": [
    "#### 5.2 Plotar gráficos de controle XM e MmR (valor 0,4)"
   ]
  },
  {
   "cell_type": "code",
   "execution_count": null,
   "metadata": {},
   "outputs": [],
   "source": [
    "# Plotar gráfico de controle XM\n",
    "# Colocar seu código aqui\n",
    "\n"
   ]
  },
  {
   "cell_type": "code",
   "execution_count": null,
   "metadata": {},
   "outputs": [],
   "source": [
    "# Plotar gráfico de controle MmR\n",
    "# Colocar seu código aqui\n",
    "\n"
   ]
  },
  {
   "cell_type": "markdown",
   "metadata": {},
   "source": [
    "#### 5.3 Análisar gráficos XM e MmR (valor 0.6)\n",
    "* Teste 1: presença de algum ponto fora do limite de controle\n",
    "* Teste 2: presença de pelo menos dois valores sucessivos no mesmo lado na zona C\n",
    "* Teste 3: presença de pelo menos quatro valores sucessivos no mesmo lado na zona B\n",
    "* Teste 4: presença de oito pontos consecutivos no mesmo lado da linha central em qualquer zona\n",
    "\n",
    "Pontos sobre uma linha de controle são considerados na zona adjacente mais próxima à linha central."
   ]
  },
  {
   "cell_type": "code",
   "execution_count": null,
   "metadata": {},
   "outputs": [],
   "source": [
    "# Teste 1: presença de algum ponto fora dos limites de controle\n",
    "# Gráfico XM:\n",
    "# Gráfico MmR: \n",
    "#\n",
    "# Teste 2: presença de pelo menos dois valores sucessivos na zona C\n",
    "# Gráfico XM: \n",
    "# Gráfico MmR: \n",
    "#\n",
    "# Teste 3: presença de pelo menos quatro valores sucessivos na zona B\n",
    "# Gráfico XM: \n",
    "# Gráfico MmR: \n",
    "#\n",
    "# Teste 4: presença pelo menos oito valores sucessivos no mesmo lado da linha central\n",
    "# Gráfico XM: \n",
    "# Gráfico MmR: \n",
    "#"
   ]
  },
  {
   "cell_type": "markdown",
   "metadata": {},
   "source": [
    "#### 5.4 Análise detalhada (valor 0,4)"
   ]
  },
  {
   "cell_type": "code",
   "execution_count": null,
   "metadata": {},
   "outputs": [],
   "source": [
    "# Análise detalhada\n",
    "# Mostrar o id das sprints nas medidas identificadas como potencial causa especial nos testes\n",
    "# Colocar código aqui (resultado se o código estiver correto: S02 S05 S27 S36)\n",
    "\n"
   ]
  },
  {
   "cell_type": "markdown",
   "metadata": {},
   "source": [
    "# Entrega\n",
    "Completar ou colocar os comandos necessários para resolver a questão.<br>\n",
    "Imprmir para pdf e alterar o nome do aquivo para $\\lt \\text{seu_nome.pdf}\\gt$.<br>\n",
    "Verificar se todas as respostas estão legíveis e fazer os ajustes necessários caso necessário.<br>\n",
    "Respostas ilegíveis não serão corrigidas.<br>\n",
    "Entregar no AVA (entrega individual)."
   ]
  },
  {
   "cell_type": "code",
   "execution_count": null,
   "metadata": {},
   "outputs": [],
   "source": []
  }
 ],
 "metadata": {
  "kernelspec": {
   "display_name": "Python 3 (ipykernel)",
   "language": "python",
   "name": "python3"
  },
  "language_info": {
   "codemirror_mode": {
    "name": "ipython",
    "version": 3
   },
   "file_extension": ".py",
   "mimetype": "text/x-python",
   "name": "python",
   "nbconvert_exporter": "python",
   "pygments_lexer": "ipython3",
   "version": "3.8.3"
  }
 },
 "nbformat": 4,
 "nbformat_minor": 4
}
